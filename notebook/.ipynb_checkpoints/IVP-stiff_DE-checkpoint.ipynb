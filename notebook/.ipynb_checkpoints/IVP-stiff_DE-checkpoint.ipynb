{
 "cells": [
  {
   "cell_type": "markdown",
   "metadata": {},
   "source": [
    "## On the numerical solution of initial value problem: a stiff differential equation"
   ]
  },
  {
   "cell_type": "markdown",
   "metadata": {},
   "source": [
    "_by Harmon Prayogi_ <br>\n",
    "1st June 2021"
   ]
  },
  {
   "cell_type": "markdown",
   "metadata": {},
   "source": [
    "#### __Abstract__"
   ]
  },
  {
   "cell_type": "markdown",
   "metadata": {},
   "source": [
    "Lorem Ipsum is simply dummy text of the printing and typesetting industry. Lorem Ipsum has been the industry's standard dummy text ever since the 1500s, when an unknown printer took a galley of type and scrambled it to make a type specimen book. It has survived not only five centuries, but also the leap into electronic typesetting, remaining essentially unchanged. It was popularised in the 1960s with the release of Letraset sheets containing Lorem Ipsum passages, and more recently with desktop publishing software like Aldus PageMaker including versions of Lorem Ipsum."
   ]
  },
  {
   "cell_type": "markdown",
   "metadata": {},
   "source": [
    "<hr> "
   ]
  },
  {
   "cell_type": "markdown",
   "metadata": {},
   "source": [
    "### Contents\n",
    "* [I. Introduction](#intro)\n",
    "* [II. The initial parameters](#initial)\n",
    "* [III. The Euler method](#euler)\n",
    "* [IV. The 4th order Runge-Kutta method](#rk4)\n",
    "* [V. The implicit Euler Method](#implicit_euler)\n",
    "* [VIII. Conclusion](#conclusion)\n",
    "* [Acknowledgment](#acknowledgment)\n",
    "* [References](#references)"
   ]
  },
  {
   "cell_type": "markdown",
   "metadata": {},
   "source": [
    "<hr>"
   ]
  },
  {
   "cell_type": "markdown",
   "metadata": {},
   "source": [
    "### <a id='intro'></a>I. Introduction"
   ]
  },
  {
   "cell_type": "markdown",
   "metadata": {},
   "source": [
    "Here, we are trying to solve an initial value problem (IVP) where the diferential equation shows stiffness condition which the solutions are numerically unstable unless the step size are extremely small. Consider the IVP:\n",
    "$$\n",
    "\\frac{d}{dx} y(x) = e^{-t} - 21 y(t) \\: , \\:\\:\\:\\:\n",
    "y(0) = 0\n",
    "$$\n",
    "\n",
    "The exact solution of the IVP is given by:\n",
    "$$\n",
    "y(x) = \\frac{1}{20 e^x} - \\frac{1}{20 e^{21x}}\n",
    "$$\n",
    "\n",
    "First of all, we have to import some Python libraries that we will use in the future. The libraries are `numpy` and `matplotlib`."
   ]
  },
  {
   "cell_type": "code",
   "execution_count": 10,
   "metadata": {},
   "outputs": [],
   "source": [
    "import numpy as np\n",
    "import matplotlib.pyplot as plt"
   ]
  },
  {
   "cell_type": "markdown",
   "metadata": {},
   "source": [
    "Then, we compute $y$ for $0<x<2$,"
   ]
  },
  {
   "cell_type": "code",
   "execution_count": 95,
   "metadata": {},
   "outputs": [],
   "source": [
    "x_exc = np.linspace(0,2,100)\n",
    "y_exc = 1/(20*np.exp(x_exc)) - 1/(20*np.exp(21*x_exc))"
   ]
  },
  {
   "cell_type": "markdown",
   "metadata": {},
   "source": [
    "<hr> "
   ]
  },
  {
   "cell_type": "markdown",
   "metadata": {},
   "source": [
    "### <a id='initial'></a>II. The initial parameters"
   ]
  },
  {
   "cell_type": "markdown",
   "metadata": {},
   "source": [
    "Now, we are solving the IVP numerically using a simplest method, the Euler method. We set the step size $\\Delta x = 0.1$ and $x_0 = 0$. The code below is the implementation of the Euler Method."
   ]
  },
  {
   "cell_type": "code",
   "execution_count": null,
   "metadata": {},
   "outputs": [],
   "source": []
  },
  {
   "cell_type": "markdown",
   "metadata": {},
   "source": [
    "<hr> "
   ]
  },
  {
   "cell_type": "markdown",
   "metadata": {},
   "source": [
    "### <a id='euler'></a>III. The Euler Method"
   ]
  },
  {
   "cell_type": "markdown",
   "metadata": {},
   "source": []
  },
  {
   "cell_type": "code",
   "execution_count": 143,
   "metadata": {},
   "outputs": [],
   "source": [
    "# initial parameters\n",
    "y_max = 2\n",
    "y0 = 0\n",
    "x0 = 0\n",
    "y = [y0]\n",
    "x = [x0]\n",
    "f = []\n",
    "dx = 0.1\n",
    "N = int(y_max/dx)\n",
    "\n",
    "# Euler Method\n",
    "for i in range(N):\n",
    "    fi = np.exp(-x[i]) - 21 * y[i]  \n",
    "    yii = y[i] + fi * dx\n",
    "    \n",
    "    f += [fi]\n",
    "    y += [yii]\n",
    "    x += [dx*(i+1)]"
   ]
  },
  {
   "cell_type": "markdown",
   "metadata": {},
   "source": [
    "From the code above, we obtain the list of $y$ and $x$ values for each step. "
   ]
  },
  {
   "cell_type": "code",
   "execution_count": 144,
   "metadata": {},
   "outputs": [
    {
     "data": {
      "text/plain": [
       "Text(0, 0.5, 'y')"
      ]
     },
     "execution_count": 144,
     "metadata": {},
     "output_type": "execute_result"
    },
    {
     "data": {
      "image/png": "[encoded data removed]",
      "text/plain": [
       "<Figure size 432x288 with 1 Axes>"
      ]
     },
     "metadata": {
      "needs_background": "light"
     },
     "output_type": "display_data"
    }
   ],
   "source": [
    "plt.plot(x_exc, y_exc, color='k')\n",
    "plt.plot(x, y, '--')\n",
    "plt.xlabel('x')\n",
    "plt.ylabel('y')"
   ]
  },
  {
   "cell_type": "markdown",
   "metadata": {},
   "source": [
    "Plotting the result along with the exact solution. For the exact solution, it is showed by continuous black line and the solution of the Euler method is showed by dashed blue line. As you can see, Euler method give 'blow-up' solution, it diverge away from the exact solution"
   ]
  },
  {
   "cell_type": "markdown",
   "metadata": {},
   "source": [
    "<hr> "
   ]
  },
  {
   "cell_type": "markdown",
   "metadata": {},
   "source": [
    "### <a id='rk4'></a>IV. The 4th order Runge-Kutta Method"
   ]
  },
  {
   "cell_type": "markdown",
   "metadata": {},
   "source": []
  },
  {
   "cell_type": "code",
   "execution_count": 124,
   "metadata": {},
   "outputs": [],
   "source": [
    "# initial parameters\n",
    "y_max = 2\n",
    "y0 = 0\n",
    "x0 = 0\n",
    "y = [y0]\n",
    "x = [x0]\n",
    "f = []\n",
    "dx = 0.1\n",
    "N = int(y_max/dx)\n",
    "\n",
    "# 3rd order Runge-Kutta Method\n",
    "for i in range(N):\n",
    "    f1 = np.exp(-x[i]) - 21 * y[i] \n",
    "    \n",
    "    f2_x = x[i] + 1/2 * dx\n",
    "    f2_y = y[i] + 1/2 * f1 * dx\n",
    "    f2 = np.exp(-f2_x) - 21 * f2_y\n",
    "    \n",
    "    f3_x = x[i] + 1/2 * dx\n",
    "    f3_y = y[i] + 1/2 * f2 * dx\n",
    "    f3 = np.exp(-f3_x) - 21 * f3_y\n",
    "    \n",
    "    f4_x = x[i] + dx\n",
    "    f4_y = y[i] + f3 * dx\n",
    "    f4 = np.exp(-f4_x) - 21 * f4_y\n",
    "    \n",
    "    F = 1/6 * (f1 + 2*f2 + 2*f3 + f4)\n",
    "    yii = y[i] + F * dx\n",
    "    \n",
    "    x += [dx*(i+1)]\n",
    "    f += [F]\n",
    "    y += [yii]"
   ]
  },
  {
   "cell_type": "code",
   "execution_count": 133,
   "metadata": {},
   "outputs": [
    {
     "data": {
      "text/plain": [
       "Text(0, 0.5, 'y')"
      ]
     },
     "execution_count": 133,
     "metadata": {},
     "output_type": "execute_result"
    },
    {
     "data": {
      "image/png": "[encoded data removed]",
      "text/plain": [
       "<Figure size 432x288 with 1 Axes>"
      ]
     },
     "metadata": {
      "needs_background": "light"
     },
     "output_type": "display_data"
    }
   ],
   "source": [
    "plt.plot(x_exc, y_exc, color='k')\n",
    "plt.scatter(x, y)\n",
    "plt.xlabel('x')\n",
    "plt.ylabel('y')"
   ]
  },
  {
   "cell_type": "markdown",
   "metadata": {},
   "source": [
    "<hr> "
   ]
  },
  {
   "cell_type": "markdown",
   "metadata": {},
   "source": [
    "### <a id='implicit_euler'></a>V. The implicit Euler Method"
   ]
  },
  {
   "cell_type": "code",
   "execution_count": null,
   "metadata": {},
   "outputs": [],
   "source": []
  },
  {
   "cell_type": "code",
   "execution_count": 132,
   "metadata": {},
   "outputs": [],
   "source": [
    "# initial parameters\n",
    "y_max = 2\n",
    "y0 = 0\n",
    "x0 = 0\n",
    "y = [y0]\n",
    "x = [x0]\n",
    "f = []\n",
    "dx = 0.1\n",
    "N = int(y_max/dx)\n",
    "\n",
    "# Implicit Euler Method\n",
    "for i in range(N):\n",
    "    x += [dx*(i+1)]\n",
    "    \n",
    "    yii = (y[i] + np.exp(-x[i+1]) * dx) / (1 + 21 * dx)\n",
    "    \n",
    "    y += [yii]\n",
    "    "
   ]
  },
  {
   "cell_type": "code",
   "execution_count": 134,
   "metadata": {},
   "outputs": [
    {
     "data": {
      "text/plain": [
       "Text(0, 0.5, 'y')"
      ]
     },
     "execution_count": 134,
     "metadata": {},
     "output_type": "execute_result"
    },
    {
     "data": {
      "image/png": "[encoded data removed]",
      "text/plain": [
       "<Figure size 432x288 with 1 Axes>"
      ]
     },
     "metadata": {
      "needs_background": "light"
     },
     "output_type": "display_data"
    }
   ],
   "source": [
    "plt.plot(x_exc, y_exc, color='k')\n",
    "plt.scatter(x, y)\n",
    "plt.xlabel('x')\n",
    "plt.ylabel('y')"
   ]
  },
  {
   "cell_type": "markdown",
   "metadata": {},
   "source": [
    "<hr> "
   ]
  },
  {
   "cell_type": "markdown",
   "metadata": {},
   "source": [
    "### <a id='conclusion'></a>VIII. Conclusion"
   ]
  },
  {
   "cell_type": "markdown",
   "metadata": {},
   "source": []
  },
  {
   "cell_type": "markdown",
   "metadata": {},
   "source": [
    "<hr> "
   ]
  },
  {
   "cell_type": "markdown",
   "metadata": {},
   "source": [
    "### <a id='acknowledgment'></a>Acknowledgment"
   ]
  },
  {
   "cell_type": "markdown",
   "metadata": {},
   "source": []
  },
  {
   "cell_type": "markdown",
   "metadata": {},
   "source": [
    "<hr> "
   ]
  },
  {
   "cell_type": "markdown",
   "metadata": {},
   "source": [
    "### <a id='references'></a>References"
   ]
  },
  {
   "cell_type": "markdown",
   "metadata": {},
   "source": []
  },
  {
   "cell_type": "markdown",
   "metadata": {},
   "source": [
    "<hr>"
   ]
  },
  {
   "cell_type": "markdown",
   "metadata": {},
   "source": [
    "&copy; 2021 | Harmon Prayogi\n",
    "<a rel=\"license\" href=\"http://creativecommons.org/licenses/by/4.0/\"><img style=\"float: right\" alt=\"Creative Commons Lizenzvertrag\" style=\"border-width:0\" src=\"https://i.creativecommons.org/l/by/4.0/88x31.png\" /></a>"
   ]
  }
 ],
 "metadata": {
  "kernelspec": {
   "display_name": "Python 3",
   "language": "python",
   "name": "python3"
  },
  "language_info": {
   "codemirror_mode": {
    "name": "ipython",
    "version": 3
   },
   "file_extension": ".py",
   "mimetype": "text/x-python",
   "name": "python",
   "nbconvert_exporter": "python",
   "pygments_lexer": "ipython3",
   "version": "3.8.5"
  }
 },
 "nbformat": 4,
 "nbformat_minor": 4
}
