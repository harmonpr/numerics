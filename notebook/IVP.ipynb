{
 "cells": [
  {
   "cell_type": "markdown",
   "metadata": {},
   "source": [
    "## On the numerical solution of initial value problem"
   ]
  },
  {
   "cell_type": "markdown",
   "metadata": {},
   "source": [
    "_by Harmon Prayogi_ \\\n",
    "31st May 2021"
   ]
  },
  {
   "cell_type": "markdown",
   "metadata": {},
   "source": [
    "#### __Abstract__"
   ]
  },
  {
   "cell_type": "markdown",
   "metadata": {},
   "source": [
    "Lorem Ipsum is simply dummy text of the printing and typesetting industry. Lorem Ipsum has been the industry's standard dummy text ever since the 1500s, when an unknown printer took a galley of type and scrambled it to make a type specimen book. It has survived not only five centuries, but also the leap into electronic typesetting, remaining essentially unchanged. It was popularised in the 1960s with the release of Letraset sheets containing Lorem Ipsum passages, and more recently with desktop publishing software like Aldus PageMaker including versions of Lorem Ipsum."
   ]
  },
  {
   "cell_type": "markdown",
   "metadata": {},
   "source": [
    " "
   ]
  },
  {
   "cell_type": "markdown",
   "metadata": {},
   "source": [
    "### I. Introduction"
   ]
  },
  {
   "cell_type": "markdown",
   "metadata": {},
   "source": [
    "Consider the initial value problem below:\n",
    "$$\n",
    "f(x,y) = \\frac{d}{dx} y(x) = x + y(x) \\\\\n",
    "y(0) = 1\n",
    "$$\n",
    "Solve numerically the problem for $y(1)$ and the interval $\\Delta x = 0.05$ using the following method:\n",
    "* Euler Method\n",
    "* Heun Method\n",
    "* Ralston Method\n",
    "* 3rd order Runge-Kutta Method\n",
    "* 4th order Runge-Kutta Method"
   ]
  },
  {
   "cell_type": "markdown",
   "metadata": {},
   "source": [
    "Where the exact solution of the initial value problem above is given:\n",
    "\n",
    "$\n",
    "y(x) = 2 e^x - x - 1\n",
    "$\n",
    "\n",
    "Thus, $y(1) = 3.43656365691809$."
   ]
  },
  {
   "cell_type": "code",
   "execution_count": 156,
   "metadata": {},
   "outputs": [],
   "source": [
    "y_1 = 3.43656365691809"
   ]
  },
  {
   "cell_type": "markdown",
   "metadata": {},
   "source": [
    " "
   ]
  },
  {
   "cell_type": "markdown",
   "metadata": {},
   "source": [
    "### II. Initial parameters"
   ]
  },
  {
   "cell_type": "markdown",
   "metadata": {},
   "source": []
  },
  {
   "cell_type": "code",
   "execution_count": null,
   "metadata": {},
   "outputs": [],
   "source": []
  },
  {
   "cell_type": "markdown",
   "metadata": {},
   "source": [
    " "
   ]
  },
  {
   "cell_type": "markdown",
   "metadata": {},
   "source": [
    "### III. Euler Method"
   ]
  },
  {
   "cell_type": "markdown",
   "metadata": {},
   "source": [
    "$\n",
    "y_{i+1} \\approx y_i + f(x_i, y_i) \\Delta x \\:, \\:\\:\\:\\: i = 1,2,...,N\n",
    "$"
   ]
  },
  {
   "cell_type": "markdown",
   "metadata": {},
   "source": [
    "$\n",
    "f(x_i, y_i) = x_i + y_i\n",
    "$"
   ]
  },
  {
   "cell_type": "code",
   "execution_count": 230,
   "metadata": {},
   "outputs": [],
   "source": [
    "# initial parameters\n",
    "y0 = 1\n",
    "x0 = 0\n",
    "y = [y0]\n",
    "x = [x0]\n",
    "f = []\n",
    "dx = 0.05\n",
    "N = int(y0/dx)\n",
    "\n",
    "# Euler Method\n",
    "for i in range(N):\n",
    "    fi = x[i] + y[i]  \n",
    "    yii = y[i] + fi * dx\n",
    "    \n",
    "    f += [fi]\n",
    "    y += [yii]\n",
    "    x += [dx*(i+1)]"
   ]
  },
  {
   "cell_type": "code",
   "execution_count": 231,
   "metadata": {},
   "outputs": [
    {
     "data": {
      "text/plain": [
       "3.3065954102888404"
      ]
     },
     "execution_count": 231,
     "metadata": {},
     "output_type": "execute_result"
    }
   ],
   "source": [
    "y[-1]"
   ]
  },
  {
   "cell_type": "markdown",
   "metadata": {},
   "source": [
    "#### Error"
   ]
  },
  {
   "cell_type": "markdown",
   "metadata": {},
   "source": [
    "The error in percent is calculated by equation below:\n",
    "$$\n",
    "err = \\frac{y(1) - y_N}{y(1)} \\times 100 \\%\n",
    "$$"
   ]
  },
  {
   "cell_type": "code",
   "execution_count": 232,
   "metadata": {},
   "outputs": [
    {
     "data": {
      "text/plain": [
       "3.781924608543561"
      ]
     },
     "execution_count": 232,
     "metadata": {},
     "output_type": "execute_result"
    }
   ],
   "source": [
    "Euler_err = [(y_1 - y)/y_1 * 100 for y in y]\n",
    "Euler_err[-1]"
   ]
  },
  {
   "cell_type": "markdown",
   "metadata": {},
   "source": [
    " "
   ]
  },
  {
   "cell_type": "markdown",
   "metadata": {},
   "source": [
    "### IV. Heun Method"
   ]
  },
  {
   "cell_type": "markdown",
   "metadata": {},
   "source": [
    "$\n",
    "y_{i+1}^0 \\approx y_i + f(x_i, y_i) \\Delta x \\: , \\:\\:\\:\\:\\: i = 1,2,...,N\n",
    "$\n",
    "\n",
    "$\n",
    "F = 0.5 (f(x_i, y_i) + f(x_{i+1}, y_{i+1}^0))\n",
    "$\n",
    "\n",
    "$\n",
    "y_{i+1} \\approx y_i + F \\Delta x\n",
    "$"
   ]
  },
  {
   "cell_type": "code",
   "execution_count": 233,
   "metadata": {},
   "outputs": [],
   "source": [
    "# initial parameters\n",
    "y0 = 1\n",
    "x0 = 0\n",
    "y = [y0]\n",
    "x = [x0]\n",
    "f = []\n",
    "dx = 0.05\n",
    "N = int(y0/dx)\n",
    "\n",
    "# Heun Method\n",
    "for i in range(N):\n",
    "    fi = x[i] + y[i]  \n",
    "    yii_0 = y[i] + fi * dx\n",
    "    \n",
    "    x += [dx*(i+1)]\n",
    "    \n",
    "    fii = x[i+1] + yii_0\n",
    "    F = 0.5*(fi+fii)\n",
    "    \n",
    "    yii = y[i] + F * dx\n",
    "    \n",
    "    f += [F]\n",
    "    y += [yii]"
   ]
  },
  {
   "cell_type": "code",
   "execution_count": 234,
   "metadata": {},
   "outputs": [
    {
     "data": {
      "text/plain": [
       "3.434382108709771"
      ]
     },
     "execution_count": 234,
     "metadata": {},
     "output_type": "execute_result"
    }
   ],
   "source": [
    "y[-1]"
   ]
  },
  {
   "cell_type": "markdown",
   "metadata": {},
   "source": [
    "#### Error"
   ]
  },
  {
   "cell_type": "code",
   "execution_count": 235,
   "metadata": {},
   "outputs": [
    {
     "data": {
      "text/plain": [
       "0.06348051210772004"
      ]
     },
     "execution_count": 235,
     "metadata": {},
     "output_type": "execute_result"
    }
   ],
   "source": [
    "Heun_err = [(y_1 - y)/y_1 * 100 for y in y]\n",
    "Heun_err[-1]"
   ]
  },
  {
   "cell_type": "markdown",
   "metadata": {},
   "source": [
    " "
   ]
  },
  {
   "cell_type": "markdown",
   "metadata": {},
   "source": [
    "### V. Ralston Method"
   ]
  },
  {
   "cell_type": "markdown",
   "metadata": {},
   "source": [
    "$\n",
    "y_{i+1} \\approx y_i + \\big(\\frac{1}{3} F_1 + \\frac{2}{3} F_2 \\big) \\Delta x \\: , \\:\\:\\:\\:\\: i = 1,2,...,N\n",
    "$\n",
    "\n",
    "$\n",
    "F_1 = f(x_i, y_i)\n",
    "$\n",
    "\n",
    "$\n",
    "F_2 = f \\big( x_i + \\frac{3}{4} \\Delta x, y_i + \\frac{3}{4} F_1 \\Delta x \\big)\n",
    "$"
   ]
  },
  {
   "cell_type": "code",
   "execution_count": 236,
   "metadata": {},
   "outputs": [],
   "source": [
    "# initial parameters\n",
    "y0 = 1\n",
    "x0 = 0\n",
    "y = [y0]\n",
    "x = [x0]\n",
    "f = []\n",
    "dx = 0.05\n",
    "N = int(y0/dx)\n",
    "\n",
    "# Ralston Method\n",
    "for i in range(N):\n",
    "    f1 = x[i] + y[i] \n",
    "    \n",
    "    f2_x = x[i] + 3/4 * dx\n",
    "    f2_y = y[i] + 3/4 * f1 * dx\n",
    "    f2 = f2_x + f2_y\n",
    "    \n",
    "    F = (1/3 * f1) + (2/3 * f2)\n",
    "    yii = y[i] + F * dx\n",
    "    \n",
    "    x += [dx*(i+1)]\n",
    "    f += [F]\n",
    "    y += [yii]"
   ]
  },
  {
   "cell_type": "code",
   "execution_count": 237,
   "metadata": {},
   "outputs": [
    {
     "data": {
      "text/plain": [
       "3.4343821087097703"
      ]
     },
     "execution_count": 237,
     "metadata": {},
     "output_type": "execute_result"
    }
   ],
   "source": [
    "y[-1]"
   ]
  },
  {
   "cell_type": "markdown",
   "metadata": {},
   "source": [
    "#### Error"
   ]
  },
  {
   "cell_type": "code",
   "execution_count": 238,
   "metadata": {},
   "outputs": [
    {
     "data": {
      "text/plain": [
       "0.06348051210773296"
      ]
     },
     "execution_count": 238,
     "metadata": {},
     "output_type": "execute_result"
    }
   ],
   "source": [
    "Ralston_err = [(y_1 - y)/y_1 * 100 for y in y]\n",
    "Ralston_err[-1]"
   ]
  },
  {
   "cell_type": "markdown",
   "metadata": {},
   "source": [
    " "
   ]
  },
  {
   "cell_type": "markdown",
   "metadata": {},
   "source": [
    "### VI. 3rd order Runge-Kutta Method"
   ]
  },
  {
   "cell_type": "markdown",
   "metadata": {},
   "source": [
    "$\n",
    "y_{i+1} \\approx y_i + \\frac{1}{6} (F_1 + 4 F_2 + F_3) \\Delta x \\:\\: , \\:\\:\\:\\: i = 1,2,...,N\n",
    "$\n",
    "\n",
    "$\n",
    "F_1 = f(x_i, y_i)\n",
    "$\n",
    "\n",
    "$\n",
    "F_2 = f \\big( x_i + \\frac{1}{2} \\Delta x, y_i + \\frac{1}{2} F_1 \\Delta x \\big)\n",
    "$\n",
    "\n",
    "$\n",
    "F_3 = f(x_i + \\Delta x, y_i - F_1 \\Delta x + 2 F_2 \\Delta x)\n",
    "$"
   ]
  },
  {
   "cell_type": "code",
   "execution_count": 239,
   "metadata": {},
   "outputs": [],
   "source": [
    "# initial parameters\n",
    "y0 = 1\n",
    "x0 = 0\n",
    "y = [y0]\n",
    "x = [x0]\n",
    "f = []\n",
    "dx = 0.05\n",
    "N = int(y0/dx)\n",
    "\n",
    "# 3rd order Runge-Kutta Method\n",
    "for i in range(N):\n",
    "    f1 = x[i] + y[i] \n",
    "    \n",
    "    f2_x = x[i] + 1/2 * dx\n",
    "    f2_y = y[i] + 1/2 * f1 * dx\n",
    "    f2 = f2_x + f2_y\n",
    "    \n",
    "    f3_x = x[i] + dx\n",
    "    f3_y = y[i] - f1 * dx + 2 * f2 * dx\n",
    "    f3 = f3_x + f3_y\n",
    "    \n",
    "    F = 1/6 * (f1 + 4*f2 + f3)\n",
    "    yii = y[i] + F * dx\n",
    "    \n",
    "    x += [dx*(i+1)]\n",
    "    f += [F]\n",
    "    y += [yii]"
   ]
  },
  {
   "cell_type": "code",
   "execution_count": 240,
   "metadata": {},
   "outputs": [
    {
     "data": {
      "text/plain": [
       "3.4365364509017144"
      ]
     },
     "execution_count": 240,
     "metadata": {},
     "output_type": "execute_result"
    }
   ],
   "source": [
    "y[-1]"
   ]
  },
  {
   "cell_type": "markdown",
   "metadata": {},
   "source": [
    "#### Error"
   ]
  },
  {
   "cell_type": "code",
   "execution_count": 241,
   "metadata": {},
   "outputs": [
    {
     "data": {
      "text/plain": [
       "0.0007916633908691885"
      ]
     },
     "execution_count": 241,
     "metadata": {},
     "output_type": "execute_result"
    }
   ],
   "source": [
    "RK3_err = [(y_1 - y)/y_1 * 100 for y in y]\n",
    "RK3_err[-1]"
   ]
  },
  {
   "cell_type": "markdown",
   "metadata": {},
   "source": [
    " "
   ]
  },
  {
   "cell_type": "markdown",
   "metadata": {},
   "source": [
    "### VII. 4th order Runge-Kutta"
   ]
  },
  {
   "cell_type": "markdown",
   "metadata": {},
   "source": [
    "$\n",
    "y_{i+1} \\approx y_i + \\frac{1}{6} (F_1 + 2 F_2 + 2 F_3 + F_4) \\Delta x \\:\\: , \\:\\:\\:\\: i = 1,2,...,N\n",
    "$\n",
    "\n",
    "$\n",
    "F_1 = f(x_i, y_i)\n",
    "$\n",
    "\n",
    "$\n",
    "F_2 = f \\big( x_i + \\frac{1}{2} \\Delta x, y_i + \\frac{1}{2} F_1 \\Delta x \\big)\n",
    "$\n",
    "\n",
    "$\n",
    "F_3 = f \\big( x_i + \\frac{1}{2} \\Delta x, y_i + \\frac{1}{2} F_2 \\Delta x \\big)\n",
    "$\n",
    "\n",
    "$\n",
    "F_4 = f(x_i + \\Delta x, y_i + F_3 \\Delta x)\n",
    "$"
   ]
  },
  {
   "cell_type": "code",
   "execution_count": 242,
   "metadata": {},
   "outputs": [],
   "source": [
    "# initial parameters\n",
    "y0 = 1\n",
    "x0 = 0\n",
    "y = [y0]\n",
    "x = [x0]\n",
    "f = []\n",
    "dx = 0.05\n",
    "N = int(y0/dx)\n",
    "\n",
    "# 3rd order Runge-Kutta Method\n",
    "for i in range(N):\n",
    "    f1 = x[i] + y[i] \n",
    "    \n",
    "    f2_x = x[i] + 1/2 * dx\n",
    "    f2_y = y[i] + 1/2 * f1 * dx\n",
    "    f2 = f2_x + f2_y\n",
    "    \n",
    "    f3_x = x[i] + 1/2 * dx\n",
    "    f3_y = y[i] + 1/2 * f2 * dx\n",
    "    f3 = f3_x + f3_y\n",
    "    \n",
    "    f4_x = x[i] + dx\n",
    "    f4_y = y[i] + f3 * dx\n",
    "    f4 = f4_x + f4_y\n",
    "    \n",
    "    F = 1/6 * (f1 + 2*f2 + 2*f3 + f4)\n",
    "    yii = y[i] + F * dx\n",
    "    \n",
    "    x += [dx*(i+1)]\n",
    "    f += [F]\n",
    "    y += [yii]"
   ]
  },
  {
   "cell_type": "code",
   "execution_count": 243,
   "metadata": {},
   "outputs": [
    {
     "data": {
      "text/plain": [
       "3.436563385312667"
      ]
     },
     "execution_count": 243,
     "metadata": {},
     "output_type": "execute_result"
    }
   ],
   "source": [
    "y[-1]"
   ]
  },
  {
   "cell_type": "markdown",
   "metadata": {},
   "source": [
    "#### Error"
   ]
  },
  {
   "cell_type": "code",
   "execution_count": 244,
   "metadata": {},
   "outputs": [
    {
     "data": {
      "text/plain": [
       "7.903401483467398e-06"
      ]
     },
     "execution_count": 244,
     "metadata": {},
     "output_type": "execute_result"
    }
   ],
   "source": [
    "RK4_err = [(y_1 - y)/y_1 * 100 for y in y]\n",
    "RK4_err[-1]"
   ]
  },
  {
   "cell_type": "markdown",
   "metadata": {},
   "source": [
    " "
   ]
  },
  {
   "cell_type": "markdown",
   "metadata": {},
   "source": [
    "### VIII. Conclusion"
   ]
  },
  {
   "cell_type": "markdown",
   "metadata": {},
   "source": []
  },
  {
   "cell_type": "markdown",
   "metadata": {},
   "source": [
    " "
   ]
  },
  {
   "cell_type": "markdown",
   "metadata": {},
   "source": [
    "### Acknowledgement"
   ]
  },
  {
   "cell_type": "markdown",
   "metadata": {},
   "source": []
  },
  {
   "cell_type": "markdown",
   "metadata": {},
   "source": [
    " "
   ]
  },
  {
   "cell_type": "markdown",
   "metadata": {},
   "source": [
    "### References"
   ]
  },
  {
   "cell_type": "markdown",
   "metadata": {},
   "source": []
  }
 ],
 "metadata": {
  "kernelspec": {
   "display_name": "Python 3",
   "language": "python",
   "name": "python3"
  },
  "language_info": {
   "codemirror_mode": {
    "name": "ipython",
    "version": 3
   },
   "file_extension": ".py",
   "mimetype": "text/x-python",
   "name": "python",
   "nbconvert_exporter": "python",
   "pygments_lexer": "ipython3",
   "version": "3.8.5"
  }
 },
 "nbformat": 4,
 "nbformat_minor": 4
}
